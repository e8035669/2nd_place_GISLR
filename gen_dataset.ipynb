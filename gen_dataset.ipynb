{
 "cells": [
  {
   "cell_type": "code",
   "execution_count": 2,
   "id": "bfe8028b-776d-42fe-9357-0cab46ed0847",
   "metadata": {
    "tags": []
   },
   "outputs": [
    {
     "name": "stdout",
     "output_type": "stream",
     "text": [
      "(94477, 5)\n"
     ]
    }
   ],
   "source": [
    "import os\n",
    "import numpy as np\n",
    "import pandas as pd\n",
    "import json\n",
    "\n",
    "\n",
    "base_dir = '/home/jeff/project/poc-project/asl_signs/training/asl_signs/'  # path to competition data\n",
    "ROWS_PER_FRAME = 543  # number of landmarks per frame\n",
    "\n",
    "\n",
    "def load_relevant_data_subset(pq_path):\n",
    "    data_columns = ['x', 'y', 'z']\n",
    "    data = pd.read_parquet(pq_path, columns=data_columns)\n",
    "    n_frames = int(len(data) / ROWS_PER_FRAME)\n",
    "    data = data.values.reshape(n_frames, ROWS_PER_FRAME, len(data_columns))\n",
    "    return data.astype(np.float32)\n",
    "\n",
    "\n",
    "def read_dict(file_path):\n",
    "    path = os.path.expanduser(file_path)\n",
    "    with open(path, \"r\") as f:\n",
    "        dic = json.load(f)\n",
    "    return dic\n",
    "\n",
    "\n",
    "train = pd.read_csv(base_dir + '/train.csv')\n",
    "label_index = read_dict(f\"{base_dir}/sign_to_prediction_index_map.json\")\n",
    "index_label = dict([(label_index[key], key) for key in label_index])\n",
    "train[\"label\"] = train[\"sign\"].map(lambda sign: label_index[sign])\n",
    "print(train.shape)\n",
    "\n",
    "xyz, Y = [], []\n",
    "\n",
    "for i in range(len(train)):\n",
    "    sample = train.loc[i]\n",
    "    yy = load_relevant_data_subset(base_dir + sample['path'])\n",
    "    lab = sample['label']\n",
    "\n",
    "    xyz.append(yy)\n",
    "    Y.append(lab)\n",
    "    if i % 10000 == 0:\n",
    "        print(i)\n",
    "\n",
    "os.makedirs('gen_xyz', exist_ok=True)\n",
    "np.save('gen_xyz/data.npy', np.array(xyz, dtype=object))\n",
    "np.save('gen_xyz/Y.npy', np.array(Y))\n"
   ]
  },
  {
   "cell_type": "code",
   "execution_count": null,
   "id": "d9eed993-87d1-4200-b50a-dc070ae03804",
   "metadata": {
    "tags": []
   },
   "outputs": [],
   "source": []
  },
  {
   "cell_type": "code",
   "execution_count": null,
   "id": "acaa9204-7447-4f9f-984d-b637e17447d6",
   "metadata": {},
   "outputs": [],
   "source": []
  }
 ],
 "metadata": {
  "kernelspec": {
   "display_name": "gislr",
   "language": "python",
   "name": "gislr"
  },
  "language_info": {
   "codemirror_mode": {
    "name": "ipython",
    "version": 3
   },
   "file_extension": ".py",
   "mimetype": "text/x-python",
   "name": "python",
   "nbconvert_exporter": "python",
   "pygments_lexer": "ipython3",
   "version": "3.10.11"
  }
 },
 "nbformat": 4,
 "nbformat_minor": 5
}
